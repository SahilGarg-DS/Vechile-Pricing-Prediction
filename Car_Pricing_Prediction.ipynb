{
 "cells": [
  {
   "cell_type": "markdown",
   "metadata": {
    "id": "kcYDRkq4i_Wd"
   },
   "source": [
    "I am going to walk you through how we can train a model that will help us predict car prices with Machine Learning using PyTorch. The dataset I’m going to use here to predict car prices is tabular data with the prices of different cars regarding the other variables, the dataset has 302 rows and 9 columns, the variable we want to predict is the selling price of the cars."
   ]
  },
  {
   "cell_type": "markdown",
   "metadata": {
    "id": "gVL4cIeVjLHw"
   },
   "source": [
    "## Importing and installing libraries!"
   ]
  },
  {
   "cell_type": "code",
   "execution_count": 1,
   "metadata": {
    "colab": {
     "base_uri": "https://localhost:8080/"
    },
    "id": "lZD8xTfnnwVa",
    "outputId": "44745370-4d0c-44b0-c253-f020ac9067fe"
   },
   "outputs": [
    {
     "name": "stdout",
     "output_type": "stream",
     "text": [
      "Requirement already satisfied: jovian in /usr/local/lib/python3.7/dist-packages (0.2.41)\n",
      "Requirement already satisfied: pyyaml in /usr/local/lib/python3.7/dist-packages (from jovian) (3.13)\n",
      "Requirement already satisfied: uuid in /usr/local/lib/python3.7/dist-packages (from jovian) (1.30)\n",
      "Requirement already satisfied: click in /usr/local/lib/python3.7/dist-packages (from jovian) (7.1.2)\n",
      "Requirement already satisfied: requests in /usr/local/lib/python3.7/dist-packages (from jovian) (2.23.0)\n",
      "Requirement already satisfied: certifi>=2017.4.17 in /usr/local/lib/python3.7/dist-packages (from requests->jovian) (2021.10.8)\n",
      "Requirement already satisfied: chardet<4,>=3.0.2 in /usr/local/lib/python3.7/dist-packages (from requests->jovian) (3.0.4)\n",
      "Requirement already satisfied: idna<3,>=2.5 in /usr/local/lib/python3.7/dist-packages (from requests->jovian) (2.10)\n",
      "Requirement already satisfied: urllib3!=1.25.0,!=1.25.1,<1.26,>=1.21.1 in /usr/local/lib/python3.7/dist-packages (from requests->jovian) (1.24.3)\n"
     ]
    }
   ],
   "source": [
    "!pip install jovian"
   ]
  },
  {
   "cell_type": "code",
   "execution_count": 2,
   "metadata": {
    "id": "elNra0WHneqd"
   },
   "outputs": [],
   "source": [
    "import torch\n",
    "import jovian\n",
    "import torch.nn as nn\n",
    "import pandas as pd\n",
    "import matplotlib.pyplot as plt\n",
    "import torch.nn.functional as F\n",
    "from torch.utils.data import DataLoader, TensorDataset, random_split"
   ]
  },
  {
   "cell_type": "markdown",
   "metadata": {
    "id": "hdt2fPQvjU5l"
   },
   "source": [
    "### Reading the Data"
   ]
  },
  {
   "cell_type": "code",
   "execution_count": 3,
   "metadata": {
    "colab": {
     "base_uri": "https://localhost:8080/",
     "height": 206
    },
    "id": "6AdFPIl_vC2-",
    "outputId": "228eecb1-0ccc-4907-bf5c-4cec5369e5a5"
   },
   "outputs": [
    {
     "data": {
      "text/html": [
       "\n",
       "  <div id=\"df-af5e5869-d1a3-4745-80bf-431f22cb0b5d\">\n",
       "    <div class=\"colab-df-container\">\n",
       "      <div>\n",
       "<style scoped>\n",
       "    .dataframe tbody tr th:only-of-type {\n",
       "        vertical-align: middle;\n",
       "    }\n",
       "\n",
       "    .dataframe tbody tr th {\n",
       "        vertical-align: top;\n",
       "    }\n",
       "\n",
       "    .dataframe thead th {\n",
       "        text-align: right;\n",
       "    }\n",
       "</style>\n",
       "<table border=\"1\" class=\"dataframe\">\n",
       "  <thead>\n",
       "    <tr style=\"text-align: right;\">\n",
       "      <th></th>\n",
       "      <th>Car_Name</th>\n",
       "      <th>Year</th>\n",
       "      <th>Selling_Price</th>\n",
       "      <th>Present_Price</th>\n",
       "      <th>Kms_Driven</th>\n",
       "      <th>Fuel_Type</th>\n",
       "      <th>Seller_Type</th>\n",
       "      <th>Transmission</th>\n",
       "      <th>Owner</th>\n",
       "    </tr>\n",
       "  </thead>\n",
       "  <tbody>\n",
       "    <tr>\n",
       "      <th>0</th>\n",
       "      <td>ritz</td>\n",
       "      <td>2014</td>\n",
       "      <td>3.35</td>\n",
       "      <td>5.59</td>\n",
       "      <td>27000</td>\n",
       "      <td>Petrol</td>\n",
       "      <td>Dealer</td>\n",
       "      <td>Manual</td>\n",
       "      <td>0</td>\n",
       "    </tr>\n",
       "    <tr>\n",
       "      <th>1</th>\n",
       "      <td>sx4</td>\n",
       "      <td>2013</td>\n",
       "      <td>4.75</td>\n",
       "      <td>9.54</td>\n",
       "      <td>43000</td>\n",
       "      <td>Diesel</td>\n",
       "      <td>Dealer</td>\n",
       "      <td>Manual</td>\n",
       "      <td>0</td>\n",
       "    </tr>\n",
       "    <tr>\n",
       "      <th>2</th>\n",
       "      <td>ciaz</td>\n",
       "      <td>2017</td>\n",
       "      <td>7.25</td>\n",
       "      <td>9.85</td>\n",
       "      <td>6900</td>\n",
       "      <td>Petrol</td>\n",
       "      <td>Dealer</td>\n",
       "      <td>Manual</td>\n",
       "      <td>0</td>\n",
       "    </tr>\n",
       "    <tr>\n",
       "      <th>3</th>\n",
       "      <td>wagon r</td>\n",
       "      <td>2011</td>\n",
       "      <td>2.85</td>\n",
       "      <td>4.15</td>\n",
       "      <td>5200</td>\n",
       "      <td>Petrol</td>\n",
       "      <td>Dealer</td>\n",
       "      <td>Manual</td>\n",
       "      <td>0</td>\n",
       "    </tr>\n",
       "    <tr>\n",
       "      <th>4</th>\n",
       "      <td>swift</td>\n",
       "      <td>2014</td>\n",
       "      <td>4.60</td>\n",
       "      <td>6.87</td>\n",
       "      <td>42450</td>\n",
       "      <td>Diesel</td>\n",
       "      <td>Dealer</td>\n",
       "      <td>Manual</td>\n",
       "      <td>0</td>\n",
       "    </tr>\n",
       "  </tbody>\n",
       "</table>\n",
       "</div>\n",
       "      <button class=\"colab-df-convert\" onclick=\"convertToInteractive('df-af5e5869-d1a3-4745-80bf-431f22cb0b5d')\"\n",
       "              title=\"Convert this dataframe to an interactive table.\"\n",
       "              style=\"display:none;\">\n",
       "        \n",
       "  <svg xmlns=\"http://www.w3.org/2000/svg\" height=\"24px\"viewBox=\"0 0 24 24\"\n",
       "       width=\"24px\">\n",
       "    <path d=\"M0 0h24v24H0V0z\" fill=\"none\"/>\n",
       "    <path d=\"M18.56 5.44l.94 2.06.94-2.06 2.06-.94-2.06-.94-.94-2.06-.94 2.06-2.06.94zm-11 1L8.5 8.5l.94-2.06 2.06-.94-2.06-.94L8.5 2.5l-.94 2.06-2.06.94zm10 10l.94 2.06.94-2.06 2.06-.94-2.06-.94-.94-2.06-.94 2.06-2.06.94z\"/><path d=\"M17.41 7.96l-1.37-1.37c-.4-.4-.92-.59-1.43-.59-.52 0-1.04.2-1.43.59L10.3 9.45l-7.72 7.72c-.78.78-.78 2.05 0 2.83L4 21.41c.39.39.9.59 1.41.59.51 0 1.02-.2 1.41-.59l7.78-7.78 2.81-2.81c.8-.78.8-2.07 0-2.86zM5.41 20L4 18.59l7.72-7.72 1.47 1.35L5.41 20z\"/>\n",
       "  </svg>\n",
       "      </button>\n",
       "      \n",
       "  <style>\n",
       "    .colab-df-container {\n",
       "      display:flex;\n",
       "      flex-wrap:wrap;\n",
       "      gap: 12px;\n",
       "    }\n",
       "\n",
       "    .colab-df-convert {\n",
       "      background-color: #E8F0FE;\n",
       "      border: none;\n",
       "      border-radius: 50%;\n",
       "      cursor: pointer;\n",
       "      display: none;\n",
       "      fill: #1967D2;\n",
       "      height: 32px;\n",
       "      padding: 0 0 0 0;\n",
       "      width: 32px;\n",
       "    }\n",
       "\n",
       "    .colab-df-convert:hover {\n",
       "      background-color: #E2EBFA;\n",
       "      box-shadow: 0px 1px 2px rgba(60, 64, 67, 0.3), 0px 1px 3px 1px rgba(60, 64, 67, 0.15);\n",
       "      fill: #174EA6;\n",
       "    }\n",
       "\n",
       "    [theme=dark] .colab-df-convert {\n",
       "      background-color: #3B4455;\n",
       "      fill: #D2E3FC;\n",
       "    }\n",
       "\n",
       "    [theme=dark] .colab-df-convert:hover {\n",
       "      background-color: #434B5C;\n",
       "      box-shadow: 0px 1px 3px 1px rgba(0, 0, 0, 0.15);\n",
       "      filter: drop-shadow(0px 1px 2px rgba(0, 0, 0, 0.3));\n",
       "      fill: #FFFFFF;\n",
       "    }\n",
       "  </style>\n",
       "\n",
       "      <script>\n",
       "        const buttonEl =\n",
       "          document.querySelector('#df-af5e5869-d1a3-4745-80bf-431f22cb0b5d button.colab-df-convert');\n",
       "        buttonEl.style.display =\n",
       "          google.colab.kernel.accessAllowed ? 'block' : 'none';\n",
       "\n",
       "        async function convertToInteractive(key) {\n",
       "          const element = document.querySelector('#df-af5e5869-d1a3-4745-80bf-431f22cb0b5d');\n",
       "          const dataTable =\n",
       "            await google.colab.kernel.invokeFunction('convertToInteractive',\n",
       "                                                     [key], {});\n",
       "          if (!dataTable) return;\n",
       "\n",
       "          const docLinkHtml = 'Like what you see? Visit the ' +\n",
       "            '<a target=\"_blank\" href=https://colab.research.google.com/notebooks/data_table.ipynb>data table notebook</a>'\n",
       "            + ' to learn more about interactive tables.';\n",
       "          element.innerHTML = '';\n",
       "          dataTable['output_type'] = 'display_data';\n",
       "          await google.colab.output.renderOutput(dataTable, element);\n",
       "          const docLink = document.createElement('div');\n",
       "          docLink.innerHTML = docLinkHtml;\n",
       "          element.appendChild(docLink);\n",
       "        }\n",
       "      </script>\n",
       "    </div>\n",
       "  </div>\n",
       "  "
      ],
      "text/plain": [
       "  Car_Name  Year  Selling_Price  ...  Seller_Type  Transmission Owner\n",
       "0     ritz  2014           3.35  ...       Dealer        Manual     0\n",
       "1      sx4  2013           4.75  ...       Dealer        Manual     0\n",
       "2     ciaz  2017           7.25  ...       Dealer        Manual     0\n",
       "3  wagon r  2011           2.85  ...       Dealer        Manual     0\n",
       "4    swift  2014           4.60  ...       Dealer        Manual     0\n",
       "\n",
       "[5 rows x 9 columns]"
      ]
     },
     "execution_count": 3,
     "metadata": {},
     "output_type": "execute_result"
    }
   ],
   "source": [
    "DATA_FILENAME = \"car data.csv\"\n",
    "dataframe_raw = pd.read_csv(DATA_FILENAME)\n",
    "dataframe_raw.head()"
   ]
  },
  {
   "cell_type": "markdown",
   "metadata": {
    "id": "FtCvCn_Rjjs-"
   },
   "source": [
    "Sorting the arrows and removing the columns that don’t help in prediction, Dropping carnames"
   ]
  },
  {
   "cell_type": "code",
   "execution_count": 4,
   "metadata": {
    "colab": {
     "base_uri": "https://localhost:8080/",
     "height": 206
    },
    "id": "9dCMkB9swHL7",
    "outputId": "c51f3e97-4d3e-4a9b-b1f9-958d63d7c008"
   },
   "outputs": [
    {
     "data": {
      "text/html": [
       "\n",
       "  <div id=\"df-d61e92e3-2b9c-47ca-9c8b-56e75f3b7010\">\n",
       "    <div class=\"colab-df-container\">\n",
       "      <div>\n",
       "<style scoped>\n",
       "    .dataframe tbody tr th:only-of-type {\n",
       "        vertical-align: middle;\n",
       "    }\n",
       "\n",
       "    .dataframe tbody tr th {\n",
       "        vertical-align: top;\n",
       "    }\n",
       "\n",
       "    .dataframe thead th {\n",
       "        text-align: right;\n",
       "    }\n",
       "</style>\n",
       "<table border=\"1\" class=\"dataframe\">\n",
       "  <thead>\n",
       "    <tr style=\"text-align: right;\">\n",
       "      <th></th>\n",
       "      <th>Year</th>\n",
       "      <th>Selling_Price</th>\n",
       "      <th>Present_Price</th>\n",
       "      <th>Kms_Driven</th>\n",
       "      <th>Fuel_Type</th>\n",
       "      <th>Seller_Type</th>\n",
       "      <th>Transmission</th>\n",
       "      <th>Owner</th>\n",
       "    </tr>\n",
       "  </thead>\n",
       "  <tbody>\n",
       "    <tr>\n",
       "      <th>119</th>\n",
       "      <td>1952.61</td>\n",
       "      <td>1.092</td>\n",
       "      <td>1.90</td>\n",
       "      <td>5400</td>\n",
       "      <td>Petrol</td>\n",
       "      <td>Individual</td>\n",
       "      <td>Manual</td>\n",
       "      <td>0</td>\n",
       "    </tr>\n",
       "    <tr>\n",
       "      <th>61</th>\n",
       "      <td>1954.55</td>\n",
       "      <td>4.680</td>\n",
       "      <td>7.70</td>\n",
       "      <td>40588</td>\n",
       "      <td>Petrol</td>\n",
       "      <td>Dealer</td>\n",
       "      <td>Manual</td>\n",
       "      <td>0</td>\n",
       "    </tr>\n",
       "    <tr>\n",
       "      <th>211</th>\n",
       "      <td>1954.55</td>\n",
       "      <td>12.220</td>\n",
       "      <td>14.79</td>\n",
       "      <td>43535</td>\n",
       "      <td>Diesel</td>\n",
       "      <td>Dealer</td>\n",
       "      <td>Manual</td>\n",
       "      <td>0</td>\n",
       "    </tr>\n",
       "    <tr>\n",
       "      <th>42</th>\n",
       "      <td>1947.76</td>\n",
       "      <td>2.028</td>\n",
       "      <td>7.15</td>\n",
       "      <td>58000</td>\n",
       "      <td>Petrol</td>\n",
       "      <td>Dealer</td>\n",
       "      <td>Manual</td>\n",
       "      <td>0</td>\n",
       "    </tr>\n",
       "    <tr>\n",
       "      <th>262</th>\n",
       "      <td>1954.55</td>\n",
       "      <td>4.160</td>\n",
       "      <td>5.80</td>\n",
       "      <td>40023</td>\n",
       "      <td>Petrol</td>\n",
       "      <td>Dealer</td>\n",
       "      <td>Manual</td>\n",
       "      <td>0</td>\n",
       "    </tr>\n",
       "  </tbody>\n",
       "</table>\n",
       "</div>\n",
       "      <button class=\"colab-df-convert\" onclick=\"convertToInteractive('df-d61e92e3-2b9c-47ca-9c8b-56e75f3b7010')\"\n",
       "              title=\"Convert this dataframe to an interactive table.\"\n",
       "              style=\"display:none;\">\n",
       "        \n",
       "  <svg xmlns=\"http://www.w3.org/2000/svg\" height=\"24px\"viewBox=\"0 0 24 24\"\n",
       "       width=\"24px\">\n",
       "    <path d=\"M0 0h24v24H0V0z\" fill=\"none\"/>\n",
       "    <path d=\"M18.56 5.44l.94 2.06.94-2.06 2.06-.94-2.06-.94-.94-2.06-.94 2.06-2.06.94zm-11 1L8.5 8.5l.94-2.06 2.06-.94-2.06-.94L8.5 2.5l-.94 2.06-2.06.94zm10 10l.94 2.06.94-2.06 2.06-.94-2.06-.94-.94-2.06-.94 2.06-2.06.94z\"/><path d=\"M17.41 7.96l-1.37-1.37c-.4-.4-.92-.59-1.43-.59-.52 0-1.04.2-1.43.59L10.3 9.45l-7.72 7.72c-.78.78-.78 2.05 0 2.83L4 21.41c.39.39.9.59 1.41.59.51 0 1.02-.2 1.41-.59l7.78-7.78 2.81-2.81c.8-.78.8-2.07 0-2.86zM5.41 20L4 18.59l7.72-7.72 1.47 1.35L5.41 20z\"/>\n",
       "  </svg>\n",
       "      </button>\n",
       "      \n",
       "  <style>\n",
       "    .colab-df-container {\n",
       "      display:flex;\n",
       "      flex-wrap:wrap;\n",
       "      gap: 12px;\n",
       "    }\n",
       "\n",
       "    .colab-df-convert {\n",
       "      background-color: #E8F0FE;\n",
       "      border: none;\n",
       "      border-radius: 50%;\n",
       "      cursor: pointer;\n",
       "      display: none;\n",
       "      fill: #1967D2;\n",
       "      height: 32px;\n",
       "      padding: 0 0 0 0;\n",
       "      width: 32px;\n",
       "    }\n",
       "\n",
       "    .colab-df-convert:hover {\n",
       "      background-color: #E2EBFA;\n",
       "      box-shadow: 0px 1px 2px rgba(60, 64, 67, 0.3), 0px 1px 3px 1px rgba(60, 64, 67, 0.15);\n",
       "      fill: #174EA6;\n",
       "    }\n",
       "\n",
       "    [theme=dark] .colab-df-convert {\n",
       "      background-color: #3B4455;\n",
       "      fill: #D2E3FC;\n",
       "    }\n",
       "\n",
       "    [theme=dark] .colab-df-convert:hover {\n",
       "      background-color: #434B5C;\n",
       "      box-shadow: 0px 1px 3px 1px rgba(0, 0, 0, 0.15);\n",
       "      filter: drop-shadow(0px 1px 2px rgba(0, 0, 0, 0.3));\n",
       "      fill: #FFFFFF;\n",
       "    }\n",
       "  </style>\n",
       "\n",
       "      <script>\n",
       "        const buttonEl =\n",
       "          document.querySelector('#df-d61e92e3-2b9c-47ca-9c8b-56e75f3b7010 button.colab-df-convert');\n",
       "        buttonEl.style.display =\n",
       "          google.colab.kernel.accessAllowed ? 'block' : 'none';\n",
       "\n",
       "        async function convertToInteractive(key) {\n",
       "          const element = document.querySelector('#df-d61e92e3-2b9c-47ca-9c8b-56e75f3b7010');\n",
       "          const dataTable =\n",
       "            await google.colab.kernel.invokeFunction('convertToInteractive',\n",
       "                                                     [key], {});\n",
       "          if (!dataTable) return;\n",
       "\n",
       "          const docLinkHtml = 'Like what you see? Visit the ' +\n",
       "            '<a target=\"_blank\" href=https://colab.research.google.com/notebooks/data_table.ipynb>data table notebook</a>'\n",
       "            + ' to learn more about interactive tables.';\n",
       "          element.innerHTML = '';\n",
       "          dataTable['output_type'] = 'display_data';\n",
       "          await google.colab.output.renderOutput(dataTable, element);\n",
       "          const docLink = document.createElement('div');\n",
       "          docLink.innerHTML = docLinkHtml;\n",
       "          element.appendChild(docLink);\n",
       "        }\n",
       "      </script>\n",
       "    </div>\n",
       "  </div>\n",
       "  "
      ],
      "text/plain": [
       "        Year  Selling_Price  Present_Price  ...  Seller_Type Transmission Owner\n",
       "119  1952.61          1.092           1.90  ...   Individual       Manual     0\n",
       "61   1954.55          4.680           7.70  ...       Dealer       Manual     0\n",
       "211  1954.55         12.220          14.79  ...       Dealer       Manual     0\n",
       "42   1947.76          2.028           7.15  ...       Dealer       Manual     0\n",
       "262  1954.55          4.160           5.80  ...       Dealer       Manual     0\n",
       "\n",
       "[5 rows x 8 columns]"
      ]
     },
     "execution_count": 4,
     "metadata": {},
     "output_type": "execute_result"
    }
   ],
   "source": [
    "your_name = \"Sahil Garg\" # at least 5 characters\n",
    "def customize_dataset(dataframe_raw, rand_str):\n",
    "    dataframe = dataframe_raw.copy(deep=True)\n",
    "    # drop some rows\n",
    "    dataframe = dataframe.sample(int(0.95*len(dataframe)), random_state=int(ord(rand_str[0])))\n",
    "    # scale input\n",
    "    dataframe.Year = dataframe.Year * ord(rand_str[1])/100.\n",
    "    # scale target\n",
    "    dataframe.Selling_Price = dataframe.Selling_Price * ord(rand_str[2])/100.\n",
    "    # drop column\n",
    "    if ord(rand_str[3]) % 2 == 1:\n",
    "        dataframe = dataframe.drop(['Car_Name'], axis=1)\n",
    "    return dataframe\n",
    "\n",
    "dataframe = customize_dataset(dataframe_raw, your_name)\n",
    "dataframe.head()\n"
   ]
  },
  {
   "cell_type": "markdown",
   "metadata": {
    "id": "PtBbI69dgZro"
   },
   "source": [
    "In this function above as we see it needs a word to use as a random string to sort data randomly, I used my name as a random string. After that we can use the custom dataset, for simplicity we can create variables containing the number of rows, columns and variables containing the numeric, categorical or output columns:\n",
    "\n"
   ]
  },
  {
   "cell_type": "code",
   "execution_count": 5,
   "metadata": {
    "id": "r2Dpo-GgwdLI"
   },
   "outputs": [],
   "source": [
    "input_cols = [\"Year\",\"Present_Price\",\"Kms_Driven\",\"Owner\"]\n",
    "categorical_cols = [\"Fuel_Type\",\"Seller_Type\",\"Transmission\"]\n",
    "output_cols = [\"Selling_Price\"]"
   ]
  },
  {
   "cell_type": "markdown",
   "metadata": {
    "id": "VfQxpfP7ghi4"
   },
   "source": [
    "# Data Preparation"
   ]
  },
  {
   "cell_type": "markdown",
   "metadata": {
    "id": "QkyqjTsCpvhQ"
   },
   "source": [
    "As stated at the beginning, I will be using PyTorch to predict car prices using machine learning, so to use the data for training we need to convert it from dataframe to PyTorch Tensors, the first step is to convert to NumPy arrays:\n",
    "\n"
   ]
  },
  {
   "cell_type": "code",
   "execution_count": 6,
   "metadata": {
    "colab": {
     "base_uri": "https://localhost:8080/"
    },
    "id": "Z1YUpd2Pwhmy",
    "outputId": "1cb5b3e8-d48a-4882-fa8c-7c7ccd797322"
   },
   "outputs": [
    {
     "data": {
      "text/plain": [
       "(array([[1.95261e+03, 1.90000e+00, 5.40000e+03, 0.00000e+00],\n",
       "        [1.95455e+03, 7.70000e+00, 4.05880e+04, 0.00000e+00],\n",
       "        [1.95455e+03, 1.47900e+01, 4.35350e+04, 0.00000e+00],\n",
       "        ...,\n",
       "        [1.95067e+03, 9.50000e-01, 2.40000e+04, 0.00000e+00],\n",
       "        [1.95455e+03, 8.40000e-01, 2.90000e+04, 0.00000e+00],\n",
       "        [1.94388e+03, 1.23500e+01, 1.35154e+05, 0.00000e+00]]),\n",
       " array([[ 1.092 ],\n",
       "        [ 4.68  ],\n",
       "        [12.22  ],\n",
       "        [ 2.028 ],\n",
       "        [ 4.16  ],\n",
       "        [ 0.624 ],\n",
       "        [ 1.092 ],\n",
       "        [ 1.092 ],\n",
       "        [ 7.02  ],\n",
       "        [ 8.58  ],\n",
       "        [ 0.26  ],\n",
       "        [ 2.6   ],\n",
       "        [ 0.52  ],\n",
       "        [ 5.876 ],\n",
       "        [ 6.864 ],\n",
       "        [ 0.416 ],\n",
       "        [ 2.652 ],\n",
       "        [ 1.144 ],\n",
       "        [ 3.224 ],\n",
       "        [ 4.524 ],\n",
       "        [ 1.3   ],\n",
       "        [ 3.484 ],\n",
       "        [ 4.576 ],\n",
       "        [ 2.808 ],\n",
       "        [ 3.588 ],\n",
       "        [ 1.404 ],\n",
       "        [ 4.316 ],\n",
       "        [ 0.4992],\n",
       "        [ 0.312 ],\n",
       "        [11.7   ],\n",
       "        [ 0.416 ],\n",
       "        [ 4.836 ],\n",
       "        [ 3.952 ],\n",
       "        [15.496 ],\n",
       "        [ 0.208 ],\n",
       "        [ 0.468 ],\n",
       "        [ 4.68  ],\n",
       "        [ 5.616 ],\n",
       "        [ 0.416 ],\n",
       "        [ 2.756 ],\n",
       "        [ 5.148 ],\n",
       "        [ 3.12  ],\n",
       "        [ 3.796 ],\n",
       "        [ 0.208 ],\n",
       "        [ 0.104 ],\n",
       "        [10.036 ],\n",
       "        [ 5.564 ],\n",
       "        [ 5.096 ],\n",
       "        [ 0.4368],\n",
       "        [ 9.62  ],\n",
       "        [ 6.24  ],\n",
       "        [ 0.624 ],\n",
       "        [ 4.264 ],\n",
       "        [ 5.46  ],\n",
       "        [ 0.364 ],\n",
       "        [ 4.16  ],\n",
       "        [ 0.936 ],\n",
       "        [ 5.72  ],\n",
       "        [ 4.68  ],\n",
       "        [ 5.408 ],\n",
       "        [ 1.144 ],\n",
       "        [ 3.224 ],\n",
       "        [ 3.6296],\n",
       "        [ 4.68  ],\n",
       "        [ 0.26  ],\n",
       "        [ 4.94  ],\n",
       "        [ 0.4368],\n",
       "        [ 6.396 ],\n",
       "        [ 0.208 ],\n",
       "        [17.68  ],\n",
       "        [ 5.46  ],\n",
       "        [ 1.768 ],\n",
       "        [ 3.64  ],\n",
       "        [ 3.276 ],\n",
       "        [ 4.108 ],\n",
       "        [ 5.356 ],\n",
       "        [ 8.06  ],\n",
       "        [ 8.216 ],\n",
       "        [ 4.576 ],\n",
       "        [ 8.58  ],\n",
       "        [ 3.9   ],\n",
       "        [ 9.464 ],\n",
       "        [11.908 ],\n",
       "        [ 1.248 ],\n",
       "        [ 1.196 ],\n",
       "        [ 5.72  ],\n",
       "        [ 0.4992],\n",
       "        [ 4.16  ],\n",
       "        [ 0.3952],\n",
       "        [ 0.8112],\n",
       "        [ 0.624 ],\n",
       "        [ 8.996 ],\n",
       "        [ 2.34  ],\n",
       "        [ 2.444 ],\n",
       "        [ 0.468 ],\n",
       "        [ 7.8   ],\n",
       "        [ 4.94  ],\n",
       "        [ 0.676 ],\n",
       "        [ 7.748 ],\n",
       "        [ 0.312 ],\n",
       "        [ 1.1544],\n",
       "        [ 6.5   ],\n",
       "        [11.7   ],\n",
       "        [ 3.744 ],\n",
       "        [ 4.94  ],\n",
       "        [ 5.46  ],\n",
       "        [ 6.656 ],\n",
       "        [ 1.196 ],\n",
       "        [ 1.196 ],\n",
       "        [ 0.416 ],\n",
       "        [ 6.24  ],\n",
       "        [ 5.044 ],\n",
       "        [ 0.572 ],\n",
       "        [ 3.38  ],\n",
       "        [ 0.1248],\n",
       "        [23.92  ],\n",
       "        [ 1.04  ],\n",
       "        [10.5144],\n",
       "        [ 3.9   ],\n",
       "        [ 7.488 ],\n",
       "        [ 7.748 ],\n",
       "        [ 1.404 ],\n",
       "        [ 5.616 ],\n",
       "        [ 0.468 ],\n",
       "        [ 7.8   ],\n",
       "        [ 8.06  ],\n",
       "        [ 1.144 ],\n",
       "        [ 7.228 ],\n",
       "        [ 2.34  ],\n",
       "        [ 1.248 ],\n",
       "        [ 0.1664],\n",
       "        [ 0.624 ],\n",
       "        [ 5.512 ],\n",
       "        [16.64  ],\n",
       "        [ 0.52  ],\n",
       "        [ 0.208 ],\n",
       "        [ 6.084 ],\n",
       "        [ 0.312 ],\n",
       "        [ 0.4992],\n",
       "        [ 3.068 ],\n",
       "        [ 0.624 ],\n",
       "        [34.32  ],\n",
       "        [11.96  ],\n",
       "        [ 6.968 ],\n",
       "        [ 0.832 ],\n",
       "        [ 4.784 ],\n",
       "        [14.82  ],\n",
       "        [ 5.2   ],\n",
       "        [ 7.696 ],\n",
       "        [ 5.148 ],\n",
       "        [ 7.124 ],\n",
       "        [ 9.88  ],\n",
       "        [ 0.2808],\n",
       "        [ 8.736 ],\n",
       "        [ 5.096 ],\n",
       "        [ 3.38  ],\n",
       "        [ 2.34  ],\n",
       "        [ 0.416 ],\n",
       "        [ 4.16  ],\n",
       "        [ 0.676 ],\n",
       "        [ 0.208 ],\n",
       "        [ 1.092 ],\n",
       "        [ 4.576 ],\n",
       "        [ 0.3224],\n",
       "        [ 1.3   ],\n",
       "        [15.3192],\n",
       "        [ 3.068 ],\n",
       "        [ 1.508 ],\n",
       "        [ 2.756 ],\n",
       "        [ 5.3144],\n",
       "        [21.58  ],\n",
       "        [ 0.52  ],\n",
       "        [ 4.94  ],\n",
       "        [ 3.016 ],\n",
       "        [ 1.82  ],\n",
       "        [ 1.248 ],\n",
       "        [ 0.936 ],\n",
       "        [10.088 ],\n",
       "        [ 5.46  ],\n",
       "        [ 4.992 ],\n",
       "        [ 3.6504],\n",
       "        [ 0.624 ],\n",
       "        [36.4   ],\n",
       "        [ 7.8   ],\n",
       "        [ 4.264 ],\n",
       "        [ 0.78  ],\n",
       "        [ 5.72  ],\n",
       "        [ 0.1872],\n",
       "        [ 0.26  ],\n",
       "        [ 0.78  ],\n",
       "        [ 2.964 ],\n",
       "        [ 6.24  ],\n",
       "        [ 9.62  ],\n",
       "        [ 4.68  ],\n",
       "        [ 8.84  ],\n",
       "        [ 0.468 ],\n",
       "        [ 0.364 ],\n",
       "        [ 8.06  ],\n",
       "        [ 6.76  ],\n",
       "        [11.7   ],\n",
       "        [ 0.572 ],\n",
       "        [ 9.62  ],\n",
       "        [ 9.1   ],\n",
       "        [ 0.7488],\n",
       "        [ 3.484 ],\n",
       "        [ 2.964 ],\n",
       "        [ 0.156 ],\n",
       "        [ 0.624 ],\n",
       "        [ 4.68  ],\n",
       "        [ 2.86  ],\n",
       "        [ 4.94  ],\n",
       "        [ 6.188 ],\n",
       "        [ 1.092 ],\n",
       "        [ 3.64  ],\n",
       "        [ 0.988 ],\n",
       "        [ 2.184 ],\n",
       "        [11.336 ],\n",
       "        [ 3.224 ],\n",
       "        [15.08  ],\n",
       "        [ 6.24  ],\n",
       "        [ 0.26  ],\n",
       "        [ 0.468 ],\n",
       "        [ 2.08  ],\n",
       "        [ 4.056 ],\n",
       "        [ 8.684 ],\n",
       "        [ 1.196 ],\n",
       "        [ 7.748 ],\n",
       "        [ 0.364 ],\n",
       "        [ 5.512 ],\n",
       "        [ 2.964 ],\n",
       "        [ 5.46  ],\n",
       "        [ 6.344 ],\n",
       "        [ 7.54  ],\n",
       "        [ 0.676 ],\n",
       "        [18.72  ],\n",
       "        [ 2.756 ],\n",
       "        [ 6.084 ],\n",
       "        [ 0.208 ],\n",
       "        [ 4.992 ],\n",
       "        [ 5.46  ],\n",
       "        [ 0.5304],\n",
       "        [ 8.736 ],\n",
       "        [ 0.468 ],\n",
       "        [ 0.1768],\n",
       "        [ 3.224 ],\n",
       "        [24.44  ],\n",
       "        [ 0.468 ],\n",
       "        [ 6.136 ],\n",
       "        [19.5   ],\n",
       "        [ 4.94  ],\n",
       "        [ 0.3952],\n",
       "        [ 0.78  ],\n",
       "        [ 6.708 ],\n",
       "        [ 4.68  ],\n",
       "        [ 5.72  ],\n",
       "        [ 0.52  ],\n",
       "        [13.    ],\n",
       "        [ 9.3496],\n",
       "        [ 6.032 ],\n",
       "        [20.54  ],\n",
       "        [ 3.016 ],\n",
       "        [ 2.028 ],\n",
       "        [ 0.4992],\n",
       "        [ 3.12  ],\n",
       "        [ 5.72  ],\n",
       "        [23.92  ],\n",
       "        [ 0.364 ],\n",
       "        [20.7896],\n",
       "        [ 1.404 ],\n",
       "        [ 9.516 ],\n",
       "        [ 2.86  ],\n",
       "        [ 6.76  ],\n",
       "        [ 5.46  ],\n",
       "        [ 5.98  ],\n",
       "        [ 3.016 ],\n",
       "        [ 1.716 ],\n",
       "        [ 7.332 ],\n",
       "        [ 0.5408],\n",
       "        [ 4.108 ],\n",
       "        [ 6.188 ],\n",
       "        [ 2.652 ],\n",
       "        [ 3.38  ],\n",
       "        [ 0.468 ],\n",
       "        [ 0.624 ],\n",
       "        [ 1.56  ]]))"
      ]
     },
     "execution_count": 6,
     "metadata": {},
     "output_type": "execute_result"
    }
   ],
   "source": [
    "def dataframe_to_arrays(dataframe):\n",
    "    # Make a copy of the original dataframe\n",
    "    dataframe1 = dataframe.copy(deep=True)\n",
    "    # Convert non-numeric categorical columns to numbers\n",
    "    for col in categorical_cols:\n",
    "        dataframe1[col] = dataframe1[col].astype('category').cat.codes\n",
    "    # Extract input & outupts as numpy arrays\n",
    "    inputs_array = dataframe1[input_cols].to_numpy()\n",
    "    targets_array = dataframe1[output_cols].to_numpy()\n",
    "    return inputs_array, targets_array\n",
    "\n",
    "inputs_array, targets_array = dataframe_to_arrays(dataframe)\n",
    "inputs_array, targets_array\n"
   ]
  },
  {
   "cell_type": "markdown",
   "metadata": {
    "id": "Vvx0gxF4p9pn"
   },
   "source": [
    "The above function converts the input and output columns to NumPy arrays, to check can display the result and as you can see how the data is turned into arrays. Now having these arrays, we can convert them to PyTorch tensors, and use those tensors to create a variable dataset that contains them."
   ]
  },
  {
   "cell_type": "code",
   "execution_count": 7,
   "metadata": {
    "id": "Dtxx2FkVwpYP"
   },
   "outputs": [],
   "source": [
    "inputs = torch.Tensor(inputs_array)\n",
    "targets = torch.Tensor(targets_array)\n",
    "\n",
    "dataset = TensorDataset(inputs, targets)\n",
    "train_ds, val_ds = random_split(dataset, [228, 57])\n",
    "batch_size = 128\n",
    "\n",
    "train_loader = DataLoader(train_ds, batch_size, shuffle=True)\n",
    "val_loader = DataLoader(val_ds, batch_size)"
   ]
  },
  {
   "cell_type": "markdown",
   "metadata": {
    "id": "Dwp4xWZTqGs2"
   },
   "source": [
    "# Creating PyTorch Model"
   ]
  },
  {
   "cell_type": "markdown",
   "metadata": {
    "id": "zkxdEh6vqMlt"
   },
   "source": [
    "Now, I am going to create a linear regressing model using PyTorch to predict car prices."
   ]
  },
  {
   "cell_type": "code",
   "execution_count": 8,
   "metadata": {
    "colab": {
     "base_uri": "https://localhost:8080/"
    },
    "id": "xPpBrT9CwuKD",
    "outputId": "83d8794f-c023-4732-a4bf-51ffd6a66b01"
   },
   "outputs": [
    {
     "data": {
      "text/plain": [
       "[Parameter containing:\n",
       " tensor([[-0.3047,  0.1376,  0.0870, -0.0816]], requires_grad=True),\n",
       " Parameter containing:\n",
       " tensor([0.3229], requires_grad=True)]"
      ]
     },
     "execution_count": 8,
     "metadata": {},
     "output_type": "execute_result"
    }
   ],
   "source": [
    "input_size = len(input_cols)\n",
    "output_size = len(output_cols)\n",
    "\n",
    "class CarsModel(nn.Module):\n",
    "    def __init__(self):\n",
    "        super().__init__()\n",
    "        self.linear = nn.Linear(input_size, output_size)                  # fill this (hint: use input_size & output_size defined above)\n",
    "        \n",
    "    def forward(self, xb):\n",
    "        out = self.linear(xb)                          # fill this\n",
    "        return out\n",
    "    \n",
    "    def training_step(self, batch):\n",
    "        inputs, targets = batch \n",
    "        # Generate predictions\n",
    "        out = self(inputs)          \n",
    "        # Calcuate loss\n",
    "        loss = F.l1_loss(out, targets)                         # fill this\n",
    "        return loss\n",
    "    \n",
    "    def validation_step(self, batch):\n",
    "        inputs, targets = batch\n",
    "        # Generate predictions\n",
    "        out = self(inputs)\n",
    "        # Calculate loss\n",
    "        loss = F.l1_loss(out, targets)                           # fill this    \n",
    "        return {'val_loss': loss.detach()}\n",
    "        \n",
    "    def validation_epoch_end(self, outputs):\n",
    "        batch_losses = [x['val_loss'] for x in outputs]\n",
    "        epoch_loss = torch.stack(batch_losses).mean()   # Combine losses\n",
    "        return {'val_loss': epoch_loss.item()}\n",
    "    \n",
    "    def epoch_end(self, epoch, result, num_epochs):\n",
    "        # Print result every 20th epoch\n",
    "        if (epoch+1) % 20 == 0 or epoch == num_epochs-1:\n",
    "            print(\"Epoch [{}], val_loss: {:.4f}\".format(epoch+1, result['val_loss']))\n",
    "            \n",
    "model = CarsModel()\n",
    "\n",
    "list(model.parameters())"
   ]
  },
  {
   "cell_type": "markdown",
   "metadata": {
    "id": "o7ftHkS0qTdt"
   },
   "source": [
    "In this above function, I used the nn.Linear function which will allow us to use linear regression so now we can calculate the predictions and the loss with the F.l1_loss function can see the weight parameter one bias, with this model we will get the predictions, but will still have to undergo training."
   ]
  },
  {
   "cell_type": "markdown",
   "metadata": {
    "id": "tuf22E7rqbGt"
   },
   "source": [
    "## Training Model to Predict Car Prices"
   ]
  },
  {
   "cell_type": "markdown",
   "metadata": {
    "id": "rwL2yQcsqewl"
   },
   "source": [
    "Now we'll assess the loss and see how much is, and after doing the training, we'll see how much the loss decreases with training."
   ]
  },
  {
   "cell_type": "code",
   "execution_count": 9,
   "metadata": {
    "colab": {
     "base_uri": "https://localhost:8080/"
    },
    "id": "0aC8hLxDw3_A",
    "outputId": "d6594aab-1cb8-4243-da87-b0d88dc6aa67"
   },
   "outputs": [
    {
     "name": "stdout",
     "output_type": "stream",
     "text": [
      "{'val_loss': 2102.462646484375}\n"
     ]
    }
   ],
   "source": [
    "# Eval algorithm\n",
    "def evaluate(model, val_loader):\n",
    "    outputs = [model.validation_step(batch) for batch in val_loader]\n",
    "    return model.validation_epoch_end(outputs)\n",
    "\n",
    "# Fitting algorithm\n",
    "def fit(epochs, lr, model, train_loader, val_loader, opt_func=torch.optim.SGD):\n",
    "    history = []\n",
    "    optimizer = opt_func(model.parameters(), lr)\n",
    "    for epoch in range(epochs):\n",
    "        # Training Phase \n",
    "        for batch in train_loader:\n",
    "            loss = model.training_step(batch)\n",
    "            loss.backward()\n",
    "            optimizer.step()\n",
    "            optimizer.zero_grad()\n",
    "        # Validation phase\n",
    "        result = evaluate(model, val_loader)\n",
    "        model.epoch_end(epoch, result, epochs)\n",
    "        history.append(result)\n",
    "    return history\n",
    "\n",
    "# Check the initial value that val_loss have\n",
    "result = evaluate(model, val_loader)\n",
    "print(result)\n"
   ]
  },
  {
   "cell_type": "code",
   "execution_count": 10,
   "metadata": {
    "colab": {
     "base_uri": "https://localhost:8080/"
    },
    "id": "9jMzu8Yvw9vV",
    "outputId": "bbaf4b2e-395f-4f68-d16d-a827b57a789d"
   },
   "outputs": [
    {
     "name": "stdout",
     "output_type": "stream",
     "text": [
      "Epoch [20], val_loss: 1659.9208\n",
      "Epoch [40], val_loss: 1226.3629\n",
      "Epoch [60], val_loss: 813.3364\n",
      "Epoch [80], val_loss: 475.1589\n",
      "Epoch [90], val_loss: 361.5065\n"
     ]
    }
   ],
   "source": [
    "# Start with the Fitting\n",
    "epochs = 90\n",
    "lr = 1e-8\n",
    "history1 = fit(epochs, lr, model, train_loader, val_loader)"
   ]
  },
  {
   "cell_type": "code",
   "execution_count": 11,
   "metadata": {
    "colab": {
     "base_uri": "https://localhost:8080/"
    },
    "id": "Bts4K5tmxCEW",
    "outputId": "c2804b15-ad2b-45bd-980c-732901a5d420"
   },
   "outputs": [
    {
     "name": "stdout",
     "output_type": "stream",
     "text": [
      "Epoch [20], val_loss: 344.8631\n"
     ]
    }
   ],
   "source": [
    "# Train repeatdly until have a 'good' val_loss\n",
    "epochs = 20\n",
    "lr = 1e-9\n",
    "history1 = fit(epochs, lr, model, train_loader, val_loader)"
   ]
  },
  {
   "cell_type": "markdown",
   "metadata": {
    "id": "9m9yTcAaqvVm"
   },
   "source": [
    "As you can see, for evaluation and fit model functions are used, to do training we use optimization functions, in this case specifically SGD optimization, using train loader calculate the loss and gradients, to optimize it afterwards and evaluate the result of each iteration to see the loss."
   ]
  },
  {
   "cell_type": "markdown",
   "metadata": {
    "id": "jpqMmCruq4Yg"
   },
   "source": [
    "### Using the Model to Predict Car Prices"
   ]
  },
  {
   "cell_type": "markdown",
   "metadata": {
    "id": "GYrKJwU-q7q1"
   },
   "source": [
    "Finally, we need to test the model with specific data, to predict it is necessary to use the input which will be the input values ​​that we see in the dataset, and the model is the Cars model that we do, for the passing in the model is necessary to flatten, so with all this, predict the selling prices."
   ]
  },
  {
   "cell_type": "code",
   "execution_count": 12,
   "metadata": {
    "colab": {
     "base_uri": "https://localhost:8080/"
    },
    "id": "m6EPtwxqxIgc",
    "outputId": "2add5ba1-d2b2-4c12-cc24-b45c7ed19469"
   },
   "outputs": [
    {
     "name": "stdout",
     "output_type": "stream",
     "text": [
      "Input: tensor([1.9526e+03, 1.9000e+00, 5.4000e+03, 0.0000e+00])\n",
      "Target: tensor([1.0920])\n",
      "Prediction: tensor([-480.4725])\n"
     ]
    }
   ],
   "source": [
    "# Prediction Algorithm\n",
    "def predict_single(input, target, model):\n",
    "    inputs = input.unsqueeze(0)\n",
    "    predictions = model(inputs)                # fill this\n",
    "    prediction = predictions[0].detach()\n",
    "    print(\"Input:\", input)\n",
    "    print(\"Target:\", target)\n",
    "    print(\"Prediction:\", prediction)\n",
    "\n",
    "# Testing the model with some samples\n",
    "input, target = val_ds[0]\n",
    "predict_single(input, target, model)"
   ]
  },
  {
   "cell_type": "markdown",
   "metadata": {
    "id": "T4BkdT-LrEdn"
   },
   "source": [
    "#### As you can see, the predictions are very close to the expected target, not accurate but are similar to expected. With this now can test different results and see how good the model is."
   ]
  },
  {
   "cell_type": "code",
   "execution_count": 13,
   "metadata": {
    "colab": {
     "base_uri": "https://localhost:8080/"
    },
    "id": "U3B-D2wUxMw_",
    "outputId": "a92cb26a-b61c-45af-9046-9f3688fe6f39"
   },
   "outputs": [
    {
     "name": "stdout",
     "output_type": "stream",
     "text": [
      "Input: tensor([1.9546e+03, 7.7100e+00, 2.6000e+04, 0.0000e+00])\n",
      "Target: tensor([6.3440])\n",
      "Prediction: tensor([-30.6580])\n"
     ]
    }
   ],
   "source": [
    "input, target = val_ds[10]\n",
    "predict_single(input, target, model)"
   ]
  },
  {
   "cell_type": "markdown",
   "metadata": {
    "id": "KjhM4PwWrKTt"
   },
   "source": [
    "#### This is how we can predict car prices with Machine Learning by using the Linear Regression model trained using PyTorch.\n",
    "\n"
   ]
  }
 ],
 "metadata": {
  "colab": {
   "collapsed_sections": [],
   "name": "Car Pricing Prediction.ipynb",
   "provenance": []
  },
  "kernelspec": {
   "display_name": "Python 3",
   "language": "python",
   "name": "python3"
  },
  "language_info": {
   "codemirror_mode": {
    "name": "ipython",
    "version": 3
   },
   "file_extension": ".py",
   "mimetype": "text/x-python",
   "name": "python",
   "nbconvert_exporter": "python",
   "pygments_lexer": "ipython3",
   "version": "3.6.8"
  }
 },
 "nbformat": 4,
 "nbformat_minor": 1
}
